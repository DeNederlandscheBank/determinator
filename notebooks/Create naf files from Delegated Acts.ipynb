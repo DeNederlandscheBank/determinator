{
 "cells": [
  {
   "cell_type": "code",
   "execution_count": 1,
   "metadata": {},
   "outputs": [
    {
     "name": "stderr",
     "output_type": "stream",
     "text": [
      "c:\\anaconda3\\envs\\nlp\\lib\\site-packages\\sklearn\\externals\\joblib\\__init__.py:15: DeprecationWarning: sklearn.externals.joblib is deprecated in 0.21 and will be removed in 0.23. Please import this functionality directly from joblib, which can be installed with: pip install joblib. If this warning is raised when loading pickled models, you may need to re-serialize those models with scikit-learn 0.21+.\n",
      "  warnings.warn(msg, category=DeprecationWarning)\n",
      "c:\\anaconda3\\envs\\nlp\\lib\\site-packages\\sklearn\\base.py:306: UserWarning: Trying to unpickle estimator SelectKBest from version 0.19.0 when using version 0.21.3. This might lead to breaking code or invalid results. Use at your own risk.\n",
      "  UserWarning)\n",
      "c:\\anaconda3\\envs\\nlp\\lib\\site-packages\\sklearn\\base.py:306: UserWarning: Trying to unpickle estimator LogisticRegressionCV from version 0.19.0 when using version 0.21.3. This might lead to breaking code or invalid results. Use at your own risk.\n",
      "  UserWarning)\n",
      "c:\\anaconda3\\envs\\nlp\\lib\\site-packages\\sklearn\\base.py:306: UserWarning: Trying to unpickle estimator Pipeline from version 0.19.0 when using version 0.21.3. This might lead to breaking code or invalid results. Use at your own risk.\n",
      "  UserWarning)\n"
     ]
    }
   ],
   "source": [
    "import nafigator\n",
    "import stanza"
   ]
  },
  {
   "cell_type": "code",
   "execution_count": 2,
   "metadata": {},
   "outputs": [],
   "source": [
    "for language in ['NL', 'EN', 'DE', 'FR', 'ES', 'ET', 'DA', 'SV']:\n",
    "    nlp = stanza.Pipeline(\n",
    "            lang=language.lower(),\n",
    "            processors=\"tokenize,pos,lemma\",\n",
    "            verbose=False,\n",
    "        )\n",
    "    params = {}\n",
    "    params[\"linguistic_layers\"] = [\"text\", \"terms\", \"raw\"]\n",
    "    tree = nafigator.generate_naf(\n",
    "            input=\"..//..//nafigator-data//data//legislation//Solvency II Delegated Acts - \"+language+\".txt\",\n",
    "            engine=\"stanza\",\n",
    "            language=language.lower(),\n",
    "            naf_version=\"v3.1\",\n",
    "            dtd_validation=False,\n",
    "            params = params,\n",
    "            nlp=nlp\n",
    "        )\n",
    "    tree.write(\"..//..//nafigator-data//data//legislation//Solvency II Delegated Acts - \"+language+\".naf.xml\")    "
   ]
  },
  {
   "cell_type": "code",
   "execution_count": 3,
   "metadata": {},
   "outputs": [
    {
     "name": "stderr",
     "output_type": "stream",
     "text": [
      "ERROR:root:raw length (819433) != doc length (819435)\n",
      "ERROR:root:raw length (819433) != text to use (819435)\n"
     ]
    }
   ],
   "source": []
  },
  {
   "cell_type": "code",
   "execution_count": null,
   "metadata": {},
   "outputs": [],
   "source": []
  },
  {
   "cell_type": "code",
   "execution_count": null,
   "metadata": {},
   "outputs": [],
   "source": []
  }
 ],
 "metadata": {
  "kernelspec": {
   "display_name": "Python 3",
   "language": "python",
   "name": "python3"
  },
  "language_info": {
   "codemirror_mode": {
    "name": "ipython",
    "version": 3
   },
   "file_extension": ".py",
   "mimetype": "text/x-python",
   "name": "python",
   "nbconvert_exporter": "python",
   "pygments_lexer": "ipython3",
   "version": "3.6.12"
  }
 },
 "nbformat": 4,
 "nbformat_minor": 4
}
