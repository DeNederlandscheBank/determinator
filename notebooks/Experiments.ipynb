{
 "cells": [
  {
   "cell_type": "code",
   "execution_count": 1,
   "metadata": {},
   "outputs": [
    {
     "name": "stderr",
     "output_type": "stream",
     "text": [
      "c:\\anaconda3\\envs\\nlp\\lib\\site-packages\\sklearn\\externals\\joblib\\__init__.py:15: DeprecationWarning: sklearn.externals.joblib is deprecated in 0.21 and will be removed in 0.23. Please import this functionality directly from joblib, which can be installed with: pip install joblib. If this warning is raised when loading pickled models, you may need to re-serialize those models with scikit-learn 0.21+.\n",
      "  warnings.warn(msg, category=DeprecationWarning)\n",
      "c:\\anaconda3\\envs\\nlp\\lib\\site-packages\\sklearn\\base.py:306: UserWarning: Trying to unpickle estimator SelectKBest from version 0.19.0 when using version 0.21.3. This might lead to breaking code or invalid results. Use at your own risk.\n",
      "  UserWarning)\n",
      "c:\\anaconda3\\envs\\nlp\\lib\\site-packages\\sklearn\\base.py:306: UserWarning: Trying to unpickle estimator LogisticRegressionCV from version 0.19.0 when using version 0.21.3. This might lead to breaking code or invalid results. Use at your own risk.\n",
      "  UserWarning)\n",
      "c:\\anaconda3\\envs\\nlp\\lib\\site-packages\\sklearn\\base.py:306: UserWarning: Trying to unpickle estimator Pipeline from version 0.19.0 when using version 0.21.3. This might lead to breaking code or invalid results. Use at your own risk.\n",
      "  UserWarning)\n"
     ]
    }
   ],
   "source": [
    "import sys\n",
    "import terminator\n",
    "import stanza\n",
    "import nafigator\n",
    "import os"
   ]
  },
  {
   "cell_type": "code",
   "execution_count": null,
   "metadata": {},
   "outputs": [],
   "source": [
    "terms = {}\n",
    "\n",
    "path = \"..\\\\data\\\\obt\"\n",
    "for files in os.listdir(path):\n",
    "    if os.path.isfile(os.path.join(path, files)):\n",
    "        if files[-3:]==\"xml\":\n",
    "            doc = nafigator.NafDocument().open(os.path.join(path, files))\n",
    "            merge_terms_dict(terms, nafigator.extract_terms(doc))"
   ]
  },
  {
   "cell_type": "code",
   "execution_count": null,
   "metadata": {
    "scrolled": false
   },
   "outputs": [],
   "source": []
  },
  {
   "cell_type": "code",
   "execution_count": null,
   "metadata": {},
   "outputs": [],
   "source": [
    "len(terms.keys())"
   ]
  },
  {
   "cell_type": "code",
   "execution_count": null,
   "metadata": {},
   "outputs": [],
   "source": []
  },
  {
   "cell_type": "code",
   "execution_count": null,
   "metadata": {},
   "outputs": [],
   "source": [
    "t.write(\"..//data//solvency2_termbase.tbx\")"
   ]
  },
  {
   "cell_type": "code",
   "execution_count": null,
   "metadata": {
    "scrolled": true
   },
   "outputs": [],
   "source": [
    "t = terminator.TbxDocument().open(\"..//data//solvency2_termbase.tbx\")\n",
    "print(t.validate(validation_file=\"..\\\\data\\\\TBXcoreStructV03_TBX-Core_integrated.rng\"))"
   ]
  },
  {
   "cell_type": "code",
   "execution_count": null,
   "metadata": {},
   "outputs": [],
   "source": [
    "t = terminator.TbxDocument().open(\"..//data//solvency2_termbase.tbx\")\n",
    "print(t.validate(validation_file=\"..\\\\data\\\\TBXcoreStructV03_TBX-Basic_integrated.rng\"))"
   ]
  },
  {
   "cell_type": "code",
   "execution_count": null,
   "metadata": {},
   "outputs": [],
   "source": [
    "t.to_excel(\"..//solvenct2_termbase.xlsx\")"
   ]
  },
  {
   "cell_type": "code",
   "execution_count": null,
   "metadata": {},
   "outputs": [],
   "source": [
    "XML_LANG = \"{http://www.w3.org/XML/1998/namespace}lang\"\n",
    "NAMESPACES = {\n",
    "    None: \"urn:iso:std:iso:30042:ed-2\",\n",
    "}\n",
    "\n",
    "not_found = set()\n",
    "for concept in t.findall(\"text/body/conceptEntry\", namespaces=NAMESPACES):\n",
    "    concept_id = concept.attrib[\"id\"]\n",
    "    for item in concept:\n",
    "        if item.tag == \"{urn:iso:std:iso:30042:ed-2}langSec\":\n",
    "            if item.attrib.get(XML_LANG, \"\") == \"nl\":\n",
    "                lemma_found = False\n",
    "                for item2 in item:\n",
    "                    for item3 in item2:\n",
    "                        if item3.tag == \"{urn:iso:std:iso:30042:ed-2}term\":\n",
    "                            term_text = item3.text\n",
    "                        if item3.tag == \"{urn:iso:std:iso:30042:ed-2}termNote\":\n",
    "                            if item3.attrib.get(\"type\", \"\")==\"lemma\":\n",
    "                                lemma_found = True\n",
    "                            if item3.attrib.get(\"type\", \"\")==\"compound\":\n",
    "                                lemma_found = True\n",
    "\n",
    "                if lemma_found is not True and len(term_text.split(\" \"))==1:\n",
    "                    not_found.add(term_text)\n",
    "\n",
    "for line in sorted(not_found):\n",
    "    print(\"0 \"+line+\"\\t\"+line+\"\\tN\")"
   ]
  },
  {
   "cell_type": "code",
   "execution_count": null,
   "metadata": {},
   "outputs": [],
   "source": [
    "d = t.concepts_dict"
   ]
  },
  {
   "cell_type": "code",
   "execution_count": null,
   "metadata": {},
   "outputs": [],
   "source": [
    "for key in d.keys():\n",
    "    key_list = key.split(\" \")\n",
    "    if len(key_list)==2:\n",
    "        if d.get(key_list[-1], None) is not None:\n",
    "            print(key)"
   ]
  },
  {
   "cell_type": "code",
   "execution_count": null,
   "metadata": {},
   "outputs": [],
   "source": [
    "d['personele middelen']"
   ]
  },
  {
   "cell_type": "code",
   "execution_count": null,
   "metadata": {},
   "outputs": [],
   "source": []
  }
 ],
 "metadata": {
  "kernelspec": {
   "display_name": "Python 3",
   "language": "python",
   "name": "python3"
  },
  "language_info": {
   "codemirror_mode": {
    "name": "ipython",
    "version": 3
   },
   "file_extension": ".py",
   "mimetype": "text/x-python",
   "name": "python",
   "nbconvert_exporter": "python",
   "pygments_lexer": "ipython3",
   "version": "3.6.12"
  }
 },
 "nbformat": 4,
 "nbformat_minor": 4
}
