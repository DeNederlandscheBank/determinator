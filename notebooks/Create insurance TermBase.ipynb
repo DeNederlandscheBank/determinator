{
 "cells": [
  {
   "cell_type": "code",
   "execution_count": null,
   "metadata": {},
   "outputs": [],
   "source": [
    "import sys\n",
    "import terminator\n",
    "import stanza\n",
    "import nafigator"
   ]
  },
  {
   "cell_type": "code",
   "execution_count": null,
   "metadata": {},
   "outputs": [],
   "source": [
    "t = terminator.TbxDocument()\n",
    "t.generate(params = {\"sourceDesc\": \"TBX file, created via dnb/terminator\"})"
   ]
  },
  {
   "cell_type": "code",
   "execution_count": null,
   "metadata": {},
   "outputs": [],
   "source": [
    "DOC_FILE = \"..\\\\data\\\\naf\\\\Solvency II Delegated Acts - NL.naf.xml\"\n",
    "doc = nafigator.NafDocument().open(DOC_FILE)\n",
    "t.extract_terms(doc)"
   ]
  },
  {
   "cell_type": "code",
   "execution_count": null,
   "metadata": {},
   "outputs": [],
   "source": []
  },
  {
   "cell_type": "code",
   "execution_count": null,
   "metadata": {},
   "outputs": [],
   "source": [
    "IATE_FILE = \"..//data//IATE//IATE_export.tbx\"\n",
    "ref = terminator.TbxDocument().open(IATE_FILE)\n",
    "t.add_references_from_tbx(reference=ref, \n",
    "                          prefix=\"IATE_\")"
   ]
  },
  {
   "cell_type": "code",
   "execution_count": null,
   "metadata": {},
   "outputs": [],
   "source": [
    "lassy = terminator.TbxDocument().open(\"..//data//lassy_with_insurance.tbx\")\n",
    "t.add_termnotes_from_tbx(reference=lassy, \n",
    "                         params = {'number_of_word_components': 4})"
   ]
  },
  {
   "cell_type": "code",
   "execution_count": null,
   "metadata": {},
   "outputs": [],
   "source": [
    "t.write(\"..//data//solvency2_termbase.tbx\")"
   ]
  },
  {
   "cell_type": "code",
   "execution_count": null,
   "metadata": {},
   "outputs": [],
   "source": [
    "lassy = terminator.TbxDocument().open(\"..//data//solvency2_termbase.tbx\")\n",
    "print(t.validate(validation_file=\"..\\\\data\\\\TBXcoreStructV03_TBX-Core_integrated.rng\"))"
   ]
  },
  {
   "cell_type": "code",
   "execution_count": null,
   "metadata": {},
   "outputs": [],
   "source": [
    "XML_LANG = \"{http://www.w3.org/XML/1998/namespace}lang\"\n",
    "NAMESPACES = {\n",
    "    None: \"urn:iso:std:iso:30042:ed-2\",\n",
    "}\n",
    "\n",
    "not_found = set()\n",
    "for concept in t.findall(\"text/body/conceptEntry\", namespaces=NAMESPACES):\n",
    "    concept_id = concept.attrib[\"id\"]\n",
    "    for item in concept:\n",
    "        if item.tag == \"{urn:iso:std:iso:30042:ed-2}langSec\":\n",
    "            if item.attrib.get(XML_LANG, \"\") == \"nl\":\n",
    "                lemma_found = False\n",
    "                for item2 in item:\n",
    "                    for item3 in item2:\n",
    "                        if item3.tag == \"{urn:iso:std:iso:30042:ed-2}term\":\n",
    "                            term_text = item3.text\n",
    "                        if item3.tag == \"{urn:iso:std:iso:30042:ed-2}termNote\":\n",
    "                            if item3.attrib.get(\"type\", \"\")==\"lemma\":\n",
    "                                lemma_found = True\n",
    "                            if item3.attrib.get(\"type\", \"\")==\"compound\":\n",
    "                                lemma_found = True\n",
    "\n",
    "                if lemma_found is not True and len(term_text.split(\" \"))==1:\n",
    "                    not_found.add(term_text)\n",
    "\n",
    "for line in sorted(not_found):\n",
    "    print(\"0 \"+line+\"\\t\"+line+\"\\tN\")\n"
   ]
  },
  {
   "cell_type": "code",
   "execution_count": null,
   "metadata": {},
   "outputs": [],
   "source": []
  }
 ],
 "metadata": {
  "kernelspec": {
   "display_name": "Python 3",
   "language": "python",
   "name": "python3"
  },
  "language_info": {
   "codemirror_mode": {
    "name": "ipython",
    "version": 3
   },
   "file_extension": ".py",
   "mimetype": "text/x-python",
   "name": "python",
   "nbconvert_exporter": "python",
   "pygments_lexer": "ipython3",
   "version": "3.6.12"
  }
 },
 "nbformat": 4,
 "nbformat_minor": 4
}
