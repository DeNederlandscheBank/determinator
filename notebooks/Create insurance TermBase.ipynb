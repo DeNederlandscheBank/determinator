{
 "cells": [
  {
   "cell_type": "code",
   "execution_count": 1,
   "metadata": {},
   "outputs": [
    {
     "name": "stderr",
     "output_type": "stream",
     "text": [
      "c:\\anaconda3\\envs\\nlp\\lib\\site-packages\\sklearn\\externals\\joblib\\__init__.py:15: DeprecationWarning: sklearn.externals.joblib is deprecated in 0.21 and will be removed in 0.23. Please import this functionality directly from joblib, which can be installed with: pip install joblib. If this warning is raised when loading pickled models, you may need to re-serialize those models with scikit-learn 0.21+.\n",
      "  warnings.warn(msg, category=DeprecationWarning)\n",
      "c:\\anaconda3\\envs\\nlp\\lib\\site-packages\\sklearn\\base.py:306: UserWarning: Trying to unpickle estimator SelectKBest from version 0.19.0 when using version 0.21.3. This might lead to breaking code or invalid results. Use at your own risk.\n",
      "  UserWarning)\n",
      "c:\\anaconda3\\envs\\nlp\\lib\\site-packages\\sklearn\\base.py:306: UserWarning: Trying to unpickle estimator LogisticRegressionCV from version 0.19.0 when using version 0.21.3. This might lead to breaking code or invalid results. Use at your own risk.\n",
      "  UserWarning)\n",
      "c:\\anaconda3\\envs\\nlp\\lib\\site-packages\\sklearn\\base.py:306: UserWarning: Trying to unpickle estimator Pipeline from version 0.19.0 when using version 0.21.3. This might lead to breaking code or invalid results. Use at your own risk.\n",
      "  UserWarning)\n"
     ]
    }
   ],
   "source": [
    "import sys\n",
    "import terminator\n",
    "import stanza\n",
    "import nafigator\n",
    "import os"
   ]
  },
  {
   "cell_type": "code",
   "execution_count": 2,
   "metadata": {},
   "outputs": [],
   "source": [
    "def merge_terms_dict(a, b):\n",
    "    for key in b.keys():\n",
    "        if key in a.keys() and a[key]['dc:language']==b[key]['dc:language']:\n",
    "            a[key]['count'] += b[key]['count']\n",
    "        else:\n",
    "            a[key] = {}\n",
    "            a[key]['dc:language'] = b[key]['dc:language']\n",
    "            a[key]['dc:source'] = b[key]['dc:source']\n",
    "            a[key]['count'] = b[key]['count']\n",
    "            a[key]['partOfSpeech'] = b[key]['partOfSpeech']  "
   ]
  },
  {
   "cell_type": "code",
   "execution_count": 3,
   "metadata": {},
   "outputs": [],
   "source": [
    "# Create an empty TermBase\n",
    "t = terminator.TbxDocument()\n",
    "t.generate(params = {\"sourceDesc\": \"TBX file, created via dnb/terminator\"})"
   ]
  },
  {
   "cell_type": "code",
   "execution_count": 4,
   "metadata": {},
   "outputs": [],
   "source": [
    "# create terms dictionary of subset of languages\n",
    "terms = {}\n",
    "for language in ['NL', 'EN', 'DE', 'FR', 'ES', 'ET', 'DA', 'SV']:\n",
    "    DOC_FILE = \"..\\\\..\\\\nafigator-data\\\\data\\\\legislation\\\\Solvency II Delegated Acts - \"+language+\".naf.xml\"\n",
    "    doc = nafigator.NafDocument().open(DOC_FILE)\n",
    "    merge_terms_dict(terms, nafigator.extract_terms(doc))"
   ]
  },
  {
   "cell_type": "code",
   "execution_count": 5,
   "metadata": {},
   "outputs": [],
   "source": [
    "# read the IATE file\n",
    "IATE_FILE = \"..//data//iate//IATE_export.tbx\"\n",
    "ref = terminator.TbxDocument().open(IATE_FILE)\n",
    "t.copy_terms_from_tbx(terms=terms, reference=ref, prefix=\"IATE_\")"
   ]
  },
  {
   "cell_type": "code",
   "execution_count": null,
   "metadata": {},
   "outputs": [],
   "source": [
    "# read the lassy file\n",
    "LASSY_FILE = \"..//data//lassy//lassy_with_insurance.tbx\"\n",
    "lassy = terminator.TbxDocument().open(LASSY_FILE)\n",
    "t.add_termnotes_from_tbx(reference=lassy, params = {'number_of_word_components': 4})"
   ]
  },
  {
   "cell_type": "code",
   "execution_count": null,
   "metadata": {},
   "outputs": [],
   "source": [
    "t.write(\"..//data//examples//solvency2_termbase.tbx\")"
   ]
  }
 ],
 "metadata": {
  "kernelspec": {
   "display_name": "Python 3",
   "language": "python",
   "name": "python3"
  },
  "language_info": {
   "codemirror_mode": {
    "name": "ipython",
    "version": 3
   },
   "file_extension": ".py",
   "mimetype": "text/x-python",
   "name": "python",
   "nbconvert_exporter": "python",
   "pygments_lexer": "ipython3",
   "version": "3.6.12"
  }
 },
 "nbformat": 4,
 "nbformat_minor": 4
}
